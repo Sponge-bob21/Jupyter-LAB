{
 "cells": [
  {
   "cell_type": "markdown",
   "id": "8624a015-5f5e-4bc5-9f12-12f603b7445b",
   "metadata": {},
   "source": [
    "This is my Notebook"
   ]
  },
  {
   "cell_type": "markdown",
   "id": "66ba1d35-8084-4c52-af54-72f6b00baee3",
   "metadata": {},
   "source": [
    "I am Jayson Guibo"
   ]
  },
  {
   "cell_type": "markdown",
   "id": "b4ac1887-d687-4b77-9086-3732d0cb34bf",
   "metadata": {},
   "source": [
    "Data Science Languages\n",
    "Python\n",
    "R\n",
    "SQL\n",
    "Java\n",
    "Julia\n",
    "Scala\n",
    "C/C++\n",
    "JavaScript\n",
    "Swift\n",
    "Go\n",
    "MATLAB\n",
    "SAS"
   ]
  },
  {
   "cell_type": "markdown",
   "id": "9a9cd1df-8678-4f6f-be9f-0c8575661dcb",
   "metadata": {},
   "source": [
    "Data Science Libararies\n",
    "Numpy\n",
    "Pandas\n",
    "Mathplotlib\n",
    "Seaborn\n",
    "Plotly\n",
    "Scikit-Learn"
   ]
  },
  {
   "cell_type": "markdown",
   "id": "101895d2-4a33-4f13-a660-7d0b42402bad",
   "metadata": {},
   "source": [
    "Data Science Tools\n",
    "Pandas\n",
    "Seaborn\n",
    "Scikit-Learn\n",
    "Jupiter Notebooks\n",
    "Pytorch\n",
    "MLFlow\n",
    "Hugging Face\n",
    "Tableu\n",
    "Rapidminer"
   ]
  },
  {
   "cell_type": "markdown",
   "id": "5f7692ff-b2c8-46f0-aeed-eaadd509a4a2",
   "metadata": {},
   "source": [
    "Arithnetic Ex:\n",
    "8 + 10 = 18\n",
    "5 × 3 = 15\n",
    "10 / 5 = 2"
   ]
  },
  {
   "cell_type": "code",
   "execution_count": 13,
   "id": "a7e75ecc-6313-4d49-b55f-d45c59492a1e",
   "metadata": {},
   "outputs": [
    {
     "name": "stdin",
     "output_type": "stream",
     "text": [
      "Enter Number1 2\n",
      "Enter Number2 4\n"
     ]
    },
    {
     "name": "stdout",
     "output_type": "stream",
     "text": [
      "8\n",
      "6\n"
     ]
    }
   ],
   "source": [
    "num1 = int(input(\"Enter Number1\"))\n",
    "num2 = int(input(\"Enter Number2\"))\n",
    "mult = num1 * num2\n",
    "add = num1 + num2\n",
    "print(mult)\n",
    "print(add)"
   ]
  },
  {
   "cell_type": "code",
   "execution_count": 14,
   "id": "d9f99af2-3822-43bf-8333-b66d45388156",
   "metadata": {},
   "outputs": [
    {
     "name": "stdin",
     "output_type": "stream",
     "text": [
      "Enter Number 23\n"
     ]
    },
    {
     "name": "stdout",
     "output_type": "stream",
     "text": [
      "0.38333333333333336 Hrs\n"
     ]
    }
   ],
   "source": [
    "m = int(input(\"Enter Number\"))\n",
    "h = m/ 60\n",
    "print(h,\"Hrs\")"
   ]
  },
  {
   "cell_type": "markdown",
   "id": "8be9e21a-18ae-4586-aff1-cecc639967b5",
   "metadata": {},
   "source": [
    "Objectives:\n",
    "1. Multiplication and Addition\n",
    "2. Convert minutes to hours"
   ]
  },
  {
   "cell_type": "markdown",
   "id": "db2b5297-9190-4fe2-8357-37667c603176",
   "metadata": {},
   "source": [
    "Jayson Guibo"
   ]
  }
 ],
 "metadata": {
  "kernelspec": {
   "display_name": "Python 3 (ipykernel)",
   "language": "python",
   "name": "python3"
  },
  "language_info": {
   "codemirror_mode": {
    "name": "ipython",
    "version": 3
   },
   "file_extension": ".py",
   "mimetype": "text/x-python",
   "name": "python",
   "nbconvert_exporter": "python",
   "pygments_lexer": "ipython3",
   "version": "3.11.9"
  }
 },
 "nbformat": 4,
 "nbformat_minor": 5
}
